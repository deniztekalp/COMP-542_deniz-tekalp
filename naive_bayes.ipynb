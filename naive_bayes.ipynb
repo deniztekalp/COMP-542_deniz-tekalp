{
 "cells": [
  {
   "cell_type": "markdown",
   "metadata": {},
   "source": [
    "# Sentiment Classification with Naive Bayes"
   ]
  },
  {
   "cell_type": "markdown",
   "metadata": {},
   "source": [
    "Accuracy: 0.82064"
   ]
  },
  {
   "cell_type": "markdown",
   "metadata": {},
   "source": [
    "To run the code, the below paths need to be upated based on where the data is"
   ]
  },
  {
   "cell_type": "code",
   "execution_count": null,
   "metadata": {},
   "outputs": [],
   "source": [
    "path_train_positive = \"C:\\\\Users\\\\deniz tekalp\\\\Desktop\\\\aclImdb\\\\train\\\\pos\"\n",
    "path_train_negative = \"C:\\\\Users\\\\deniz tekalp\\\\Desktop\\\\aclImdb\\\\train\\\\neg\"\n",
    "path_test_positive = \"C:\\\\Users\\\\deniz tekalp\\\\Desktop\\\\aclImdb\\\\test\\\\pos\"\n",
    "path_test_negative = \"C:\\\\Users\\\\deniz tekalp\\\\Desktop\\\\aclImdb\\\\test\\\\neg\""
   ]
  },
  {
   "cell_type": "markdown",
   "metadata": {},
   "source": [
    "Reading the strings"
   ]
  },
  {
   "cell_type": "code",
   "execution_count": null,
   "metadata": {},
   "outputs": [],
   "source": [
    "files_train_positive = readdir(path_train_positive)\n",
    "files_train_negative = readdir(path_train_negative)\n",
    "files_test_positive = readdir(path_test_positive)\n",
    "files_test_negative = readdir(path_test_negative)"
   ]
  },
  {
   "cell_type": "code",
   "execution_count": null,
   "metadata": {},
   "outputs": [],
   "source": [
    "xtrn_strings = []\n",
    "for file in files_train_positive\n",
    "    tmppath = string(path_train_positive,\"\\\\\", file)\n",
    "    tmpfile = open(tmppath, \"r\")\n",
    "    #push!(xtrn_strings, readlines(tmpfile)[1])\n",
    "    x = readlines(tmpfile)[1]\n",
    "    push!(xtrn_strings, x)\n",
    "    close(tmpfile)\n",
    "end"
   ]
  },
  {
   "cell_type": "code",
   "execution_count": null,
   "metadata": {},
   "outputs": [],
   "source": [
    "for file in files_train_negative\n",
    "    tmppath = string(path_train_negative,\"\\\\\", file)\n",
    "    tmpfile = open(tmppath, \"r\")\n",
    "    #push!(xtrn_strings, readlines(tmpfile)[1])\n",
    "    x = readlines(tmpfile)[1]\n",
    "    push!(xtrn_strings, x)\n",
    "    close(tmpfile)\n",
    "end"
   ]
  },
  {
   "cell_type": "code",
   "execution_count": null,
   "metadata": {},
   "outputs": [],
   "source": [
    "xtst_strings = []\n",
    "for file in files_test_positive\n",
    "    tmppath = string(path_test_positive,\"\\\\\", file)\n",
    "    tmpfile = open(tmppath, \"r\")\n",
    "    x = readlines(tmpfile)[1]\n",
    "    push!(xtst_strings, x)\n",
    "    close(tmpfile)\n",
    "end"
   ]
  },
  {
   "cell_type": "code",
   "execution_count": null,
   "metadata": {},
   "outputs": [],
   "source": [
    "for file in files_test_negative\n",
    "    tmppath = string(path_test_negative,\"\\\\\", file)\n",
    "    tmpfile = open(tmppath, \"r\")\n",
    "    push!(xtst_strings, readlines(tmpfile)[1])\n",
    "    close(tmpfile)\n",
    "end"
   ]
  },
  {
   "cell_type": "markdown",
   "metadata": {},
   "source": [
    "Create a dict, clean data from punctutian, strip.() didn't work for me for some reason"
   ]
  },
  {
   "cell_type": "code",
   "execution_count": 114,
   "metadata": {},
   "outputs": [
    {
     "data": {
      "text/plain": [
       "1"
      ]
     },
     "execution_count": 114,
     "metadata": {},
     "output_type": "execute_result"
    }
   ],
   "source": [
    "dict = Dict()\n",
    "w2i(x) = get!(dict, x, 1+length(dict))\n",
    "UNK = w2i(\"<unk>\")"
   ]
  },
  {
   "cell_type": "code",
   "execution_count": 115,
   "metadata": {},
   "outputs": [],
   "source": [
    "xtrn = []\n",
    "for sentence in xtrn_strings\n",
    "    tmparr = split(strip(lowercase(sentence)))\n",
    "    tmparr=strip.(tmparr, [','])\n",
    "    tmparr=strip.(tmparr, ['!'])\n",
    "    tmparr=strip.(tmparr, ['.'])\n",
    "    tmparr=strip.(tmparr, ['?'])\n",
    "    tmparr=strip.(tmparr, [':'])\n",
    "    tmparr=strip.(tmparr, [';'])\n",
    "    tmparr=strip.(tmparr, ['*'])\n",
    "    tmparr=strip.(tmparr, ['\\\"'])\n",
    "    tmparr=strip.(tmparr, ['\\\\'])\n",
    "    tmparr=strip.(tmparr, ['\\\"'])\n",
    "    tmparr=strip.(tmparr, [')'])\n",
    "    tmparr=strip.(tmparr, ['-'])\n",
    "    tmparr=strip.(tmparr, ['\\''])\n",
    "    tmparr=strip.(tmparr, ['('])\n",
    "    tmparr=strip.(tmparr, [')'])\n",
    "    tmparr=strip.(tmparr, ['.'])\n",
    "    w2i.(tmparr)\n",
    "    push!(xtrn, tmparr)\n",
    "end"
   ]
  },
  {
   "cell_type": "code",
   "execution_count": 116,
   "metadata": {},
   "outputs": [],
   "source": [
    "xtst = []\n",
    "for sentence in xtst_strings\n",
    "    tmparr = split(strip(lowercase(sentence)))\n",
    "    tmparr=strip.(tmparr, [','])\n",
    "    tmparr=strip.(tmparr, ['!'])\n",
    "    tmparr=strip.(tmparr, ['.'])\n",
    "    tmparr=strip.(tmparr, ['?'])\n",
    "    tmparr=strip.(tmparr, [':'])\n",
    "    tmparr=strip.(tmparr, [';'])\n",
    "    tmparr=strip.(tmparr, ['*'])\n",
    "    tmparr=strip.(tmparr, ['\\\"'])\n",
    "    tmparr=strip.(tmparr, ['\\\\'])\n",
    "    tmparr=strip.(tmparr, ['\\\"'])\n",
    "    tmparr=strip.(tmparr, [')'])\n",
    "    tmparr=strip.(tmparr, ['-'])\n",
    "    tmparr=strip.(tmparr, ['\\''])\n",
    "    tmparr=strip.(tmparr, ['('])\n",
    "    tmparr=strip.(tmparr, [')'])\n",
    "    tmparr=strip.(tmparr, ['.'])\n",
    "    push!(xtst, tmparr)\n",
    "end"
   ]
  },
  {
   "cell_type": "markdown",
   "metadata": {},
   "source": [
    "Redefine w2i to make sure new words are UNK and are not added to the dict"
   ]
  },
  {
   "cell_type": "code",
   "execution_count": 118,
   "metadata": {},
   "outputs": [
    {
     "data": {
      "text/plain": [
       "w2i (generic function with 1 method)"
      ]
     },
     "execution_count": 118,
     "metadata": {},
     "output_type": "execute_result"
    }
   ],
   "source": [
    "w2i(x) = get(dict, x, UNK)"
   ]
  },
  {
   "cell_type": "markdown",
   "metadata": {},
   "source": [
    "Convert xtrn from strings to integers, create y vectors"
   ]
  },
  {
   "cell_type": "code",
   "execution_count": 120,
   "metadata": {},
   "outputs": [],
   "source": [
    "for i in 1:length(xtrn)\n",
    "    xtrn[i] = w2i.(xtrn[i])\n",
    "    xtst[i] = w2i.(xtst[i])\n",
    "end"
   ]
  },
  {
   "cell_type": "code",
   "execution_count": 127,
   "metadata": {},
   "outputs": [
    {
     "data": {
      "text/plain": [
       "12500-element view(::Array{Float64,1}, 1:12500) with eltype Float64:\n",
       " 2.0\n",
       " 2.0\n",
       " 2.0\n",
       " 2.0\n",
       " 2.0\n",
       " 2.0\n",
       " 2.0\n",
       " 2.0\n",
       " 2.0\n",
       " 2.0\n",
       " 2.0\n",
       " 2.0\n",
       " 2.0\n",
       " ⋮  \n",
       " 2.0\n",
       " 2.0\n",
       " 2.0\n",
       " 2.0\n",
       " 2.0\n",
       " 2.0\n",
       " 2.0\n",
       " 2.0\n",
       " 2.0\n",
       " 2.0\n",
       " 2.0\n",
       " 2.0"
      ]
     },
     "execution_count": 127,
     "metadata": {},
     "output_type": "execute_result"
    }
   ],
   "source": [
    "ytrn = ones(25000)\n",
    "ytrn[1:12500] .= 2\n",
    "ytst = ones(25000)\n",
    "ytst[1:12500] .= 2"
   ]
  },
  {
   "cell_type": "markdown",
   "metadata": {},
   "source": [
    "Define prior probs, not useful in this case because priors are equal"
   ]
  },
  {
   "cell_type": "code",
   "execution_count": 128,
   "metadata": {},
   "outputs": [
    {
     "data": {
      "text/plain": [
       "0.5"
      ]
     },
     "execution_count": 128,
     "metadata": {},
     "output_type": "execute_result"
    }
   ],
   "source": [
    "prior_prob_positive = sum(ytrn .-1)/length(ytrn)\n",
    "prior_prob_negative = 1 - prior_prob_positive"
   ]
  },
  {
   "cell_type": "markdown",
   "metadata": {},
   "source": [
    "Regularizing the amount of words"
   ]
  },
  {
   "cell_type": "code",
   "execution_count": 163,
   "metadata": {},
   "outputs": [
    {
     "data": {
      "text/plain": [
       "144340-element Array{Float64,1}:\n",
       " 5.0\n",
       " 5.0\n",
       " 5.0\n",
       " 5.0\n",
       " 5.0\n",
       " 5.0\n",
       " 5.0\n",
       " 5.0\n",
       " 5.0\n",
       " 5.0\n",
       " 5.0\n",
       " 5.0\n",
       " 5.0\n",
       " ⋮  \n",
       " 5.0\n",
       " 5.0\n",
       " 5.0\n",
       " 5.0\n",
       " 5.0\n",
       " 5.0\n",
       " 5.0\n",
       " 5.0\n",
       " 5.0\n",
       " 5.0\n",
       " 5.0\n",
       " 5.0"
      ]
     },
     "execution_count": 163,
     "metadata": {},
     "output_type": "execute_result"
    }
   ],
   "source": [
    "negative_counts = ones(length(dict)) .+ 4\n",
    "positive_counts = ones(length(dict)) .+ 4"
   ]
  },
  {
   "cell_type": "markdown",
   "metadata": {},
   "source": [
    "Count words that occur in negative/positive sentences & convert to probabilities"
   ]
  },
  {
   "cell_type": "code",
   "execution_count": 164,
   "metadata": {},
   "outputs": [],
   "source": [
    "for i in 1:length(xtrn)\n",
    "    for word in xtrn[i]\n",
    "        if ytrn[i] == 1  #if sentiment is negative\n",
    "            negative_counts[word] += 1\n",
    "        else           \n",
    "            positive_counts[word]  += 1\n",
    "        end\n",
    "    end\n",
    "end"
   ]
  },
  {
   "cell_type": "code",
   "execution_count": 165,
   "metadata": {},
   "outputs": [
    {
     "data": {
      "text/plain": [
       "144340-element Array{Float64,1}:\n",
       " 1.3584992604330027e-6 \n",
       " 3.532098077125807e-6  \n",
       " 0.0002624620571156561 \n",
       " 0.015484174570415364  \n",
       " 0.02246088337229509   \n",
       " 6.520796450078413e-5  \n",
       " 0.00043743676185942687\n",
       " 0.010296337594673813  \n",
       " 3.4234181362911666e-5 \n",
       " 0.0030128796597883134 \n",
       " 0.045751809792714745  \n",
       " 0.0005300864114209577 \n",
       " 0.0016255802150341309 \n",
       " ⋮                     \n",
       " 1.3584992604330027e-6 \n",
       " 1.3584992604330027e-6 \n",
       " 1.3584992604330027e-6 \n",
       " 1.3584992604330027e-6 \n",
       " 1.3584992604330027e-6 \n",
       " 1.3584992604330027e-6 \n",
       " 1.3584992604330027e-6 \n",
       " 1.3584992604330027e-6 \n",
       " 1.3584992604330027e-6 \n",
       " 1.3584992604330027e-6 \n",
       " 1.3584992604330027e-6 \n",
       " 1.3584992604330027e-6 "
      ]
     },
     "execution_count": 165,
     "metadata": {},
     "output_type": "execute_result"
    }
   ],
   "source": [
    "negative_word_probs = negative_counts ./ sum(negative_counts)\n",
    "positive_word_probs = positive_counts ./ sum(positive_counts)"
   ]
  },
  {
   "cell_type": "markdown",
   "metadata": {},
   "source": [
    "Sum by log probabilities rather than multiply due to underflow issues"
   ]
  },
  {
   "cell_type": "code",
   "execution_count": 166,
   "metadata": {},
   "outputs": [
    {
     "data": {
      "text/plain": [
       "predict (generic function with 1 method)"
      ]
     },
     "execution_count": 166,
     "metadata": {},
     "output_type": "execute_result"
    }
   ],
   "source": [
    "function predict(sentence)\n",
    "    negative_prob = log(prior_prob_negative)\n",
    "    positive_prob = log(prior_prob_positive)\n",
    "    for word in sentence\n",
    "        negative_prob += log(negative_word_probs[word])\n",
    "        positive_prob += log(positive_word_probs[word])\n",
    "    end\n",
    "    if negative_prob > positive_prob return 1\n",
    "        else return 2\n",
    "    end\n",
    "end"
   ]
  },
  {
   "cell_type": "code",
   "execution_count": 167,
   "metadata": {},
   "outputs": [
    {
     "name": "stdout",
     "output_type": "stream",
     "text": [
      "accuracy: 0.82064"
     ]
    }
   ],
   "source": [
    "print(\"accuracy: \", count(predict.(xtst) .== ytst) / length(xtst))"
   ]
  },
  {
   "cell_type": "code",
   "execution_count": null,
   "metadata": {},
   "outputs": [],
   "source": []
  }
 ],
 "metadata": {
  "kernelspec": {
   "display_name": "Julia 1.2.0",
   "language": "julia",
   "name": "julia-1.2"
  },
  "language_info": {
   "file_extension": ".jl",
   "mimetype": "application/julia",
   "name": "julia",
   "version": "1.2.0"
  }
 },
 "nbformat": 4,
 "nbformat_minor": 2
}
